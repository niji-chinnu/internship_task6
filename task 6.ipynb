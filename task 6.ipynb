{
 "cells": [
  {
   "cell_type": "markdown",
   "id": "df2f445b",
   "metadata": {},
   "source": [
    "1. Array reversal\n"
   ]
  },
  {
   "cell_type": "code",
   "execution_count": 2,
   "id": "589d0ed1",
   "metadata": {},
   "outputs": [],
   "source": [
    "import numpy\n",
    "\n",
    "def arrays(arr):\n",
    "    # complete this function\n",
    "    # use numpy.array\n",
    "    # Arrays in Python - Hacker Rank Solution START\n",
    "    return(numpy.array(arr[::-1], float))\n",
    "    # Arrays in Python - Hacker Rank Solution END\n"
   ]
  },
  {
   "cell_type": "code",
   "execution_count": 3,
   "id": "253da2e3",
   "metadata": {},
   "outputs": [
    {
     "name": "stdout",
     "output_type": "stream",
     "text": [
      "1 2 3 4 -8 -10\n",
      "[-10.  -8.   4.   3.   2.   1.]\n"
     ]
    }
   ],
   "source": [
    "arr = input().strip().split(' ')\n",
    "result = arrays(arr)\n",
    "print(result)"
   ]
  },
  {
   "cell_type": "markdown",
   "id": "cd3bfb95",
   "metadata": {},
   "source": [
    "2.shape nad reshape "
   ]
  },
  {
   "cell_type": "code",
   "execution_count": 4,
   "id": "6adcefa1",
   "metadata": {},
   "outputs": [
    {
     "name": "stdout",
     "output_type": "stream",
     "text": [
      "1 2 3 4 5 6 7 8 9\n",
      "[[1 2 3]\n",
      " [4 5 6]\n",
      " [7 8 9]]\n"
     ]
    }
   ],
   "source": [
    "import numpy\n",
    "print(numpy.array(input().split(), int).reshape(3, 3))\n"
   ]
  },
  {
   "cell_type": "markdown",
   "id": "a0a01f8f",
   "metadata": {},
   "source": [
    "3.Transpose nad Flatten"
   ]
  },
  {
   "cell_type": "code",
   "execution_count": 10,
   "id": "f0a27456",
   "metadata": {},
   "outputs": [
    {
     "name": "stdout",
     "output_type": "stream",
     "text": [
      "2 2\n",
      "1 2\n",
      "3 4\n",
      "[[1 3]\n",
      " [2 4]]\n",
      "[1 2 3 4]\n"
     ]
    }
   ],
   "source": [
    "import numpy\n",
    "n, m = map(int, input().split())\n",
    "\n",
    "storage = numpy.array([input().strip().split() for _ in range(n)], int)\n",
    "print (storage.transpose())\n",
    "print (storage.flatten())"
   ]
  },
  {
   "cell_type": "markdown",
   "id": "94e1b511",
   "metadata": {},
   "source": [
    "4. Concatenate"
   ]
  },
  {
   "cell_type": "code",
   "execution_count": 12,
   "id": "e1ad2c6d",
   "metadata": {},
   "outputs": [
    {
     "name": "stdout",
     "output_type": "stream",
     "text": [
      "4 3 2\n",
      "1 2\n",
      "1 2\n",
      "1 2\n",
      "1 2\n",
      "3 4\n",
      "3 4\n",
      "3 4\n",
      "[[1 2]\n",
      " [1 2]\n",
      " [1 2]\n",
      " [1 2]\n",
      " [3 4]\n",
      " [3 4]\n",
      " [3 4]]\n"
     ]
    }
   ],
   "source": [
    "import numpy\n",
    "P, N, M = map(int,input().split())\n",
    "A = numpy.array([input().split() for _ in range(P)],int)\n",
    "B = numpy.array([input().split() for _ in range(N)],int)\n",
    "print(numpy.concatenate((A, B), axis = 0))"
   ]
  },
  {
   "cell_type": "markdown",
   "id": "431a3c8c",
   "metadata": {},
   "source": [
    "5. Zeroes and ones "
   ]
  },
  {
   "cell_type": "code",
   "execution_count": 13,
   "id": "82300d50",
   "metadata": {},
   "outputs": [
    {
     "name": "stdout",
     "output_type": "stream",
     "text": [
      "3 3 3\n",
      "[[[0 0 0]\n",
      "  [0 0 0]\n",
      "  [0 0 0]]\n",
      "\n",
      " [[0 0 0]\n",
      "  [0 0 0]\n",
      "  [0 0 0]]\n",
      "\n",
      " [[0 0 0]\n",
      "  [0 0 0]\n",
      "  [0 0 0]]]\n",
      "[[[1 1 1]\n",
      "  [1 1 1]\n",
      "  [1 1 1]]\n",
      "\n",
      " [[1 1 1]\n",
      "  [1 1 1]\n",
      "  [1 1 1]]\n",
      "\n",
      " [[1 1 1]\n",
      "  [1 1 1]\n",
      "  [1 1 1]]]\n"
     ]
    }
   ],
   "source": [
    "size = tuple(map(int,input().strip().split()))\n",
    "print( numpy.zeros(size, int) )\n",
    "print( numpy.ones(size, int) )\n",
    "                    "
   ]
  },
  {
   "cell_type": "markdown",
   "id": "193780ee",
   "metadata": {},
   "source": [
    "6. Identity and Eye matrix"
   ]
  },
  {
   "cell_type": "code",
   "execution_count": 15,
   "id": "d72f2b60",
   "metadata": {},
   "outputs": [
    {
     "name": "stdout",
     "output_type": "stream",
     "text": [
      "3 3\n",
      "[[1. 0. 0.]\n",
      " [0. 1. 0.]\n",
      " [0. 0. 1.]]\n"
     ]
    }
   ],
   "source": [
    "import numpy\n",
    "N,M = map(int,input().split())\n",
    "print (numpy.eye(N,M))\n",
    "\n"
   ]
  },
  {
   "cell_type": "markdown",
   "id": "a37c8842",
   "metadata": {},
   "source": [
    "7. ceil, floor and rint"
   ]
  },
  {
   "cell_type": "code",
   "execution_count": 1,
   "id": "6f7cced0",
   "metadata": {},
   "outputs": [
    {
     "name": "stdout",
     "output_type": "stream",
     "text": [
      "1.1 2.2 3.3 4.4 5.5 6.6 7.7 8.8 9.9\n",
      "[ 1.  2.  3.  4.  5.  6.  7.  8.  9.]\n",
      "[  2.   3.   4.   5.   6.   7.   8.   9.  10.]\n",
      "[  1.   2.   3.   4.   6.   7.   8.   9.  10.]\n"
     ]
    }
   ],
   "source": [
    "import numpy\n",
    "\n",
    "numpy.set_printoptions(sign=' ')\n",
    "\n",
    "array = numpy.array(input().split(),float)\n",
    "\n",
    "print(numpy.floor(array))\n",
    "print(numpy.ceil(array))\n",
    "print(numpy.rint(array))"
   ]
  },
  {
   "cell_type": "markdown",
   "id": "8c9f2719",
   "metadata": {},
   "source": [
    "8. Sum and prod"
   ]
  },
  {
   "cell_type": "code",
   "execution_count": 4,
   "id": "0efc05c2",
   "metadata": {},
   "outputs": [
    {
     "name": "stdout",
     "output_type": "stream",
     "text": [
      "2 2\n",
      "1 2\n",
      "3 4\n",
      "24\n"
     ]
    }
   ],
   "source": [
    "import numpy\n",
    "\n",
    "N, M = map(int, input().split())\n",
    "A = numpy.array([input().split() for _ in range(N)], int)\n",
    "print(numpy.prod(numpy.sum(A, axis=0), axis=0))\n"
   ]
  },
  {
   "cell_type": "markdown",
   "id": "1839f027",
   "metadata": {},
   "source": [
    "9.Min and Max"
   ]
  },
  {
   "cell_type": "code",
   "execution_count": 5,
   "id": "a881a668",
   "metadata": {},
   "outputs": [
    {
     "name": "stdout",
     "output_type": "stream",
     "text": [
      "4 2\n",
      "2 5\n",
      "3 7\n",
      "1 3\n",
      "4 0\n",
      "3\n"
     ]
    }
   ],
   "source": [
    "\n",
    "import numpy\n",
    "\n",
    "N, M = map(int, input().split())\n",
    "storage = numpy.array([input().split() for _ in range(N)],int)\n",
    "print(numpy.max(numpy.min(storage, axis=1), axis=0))\n"
   ]
  },
  {
   "cell_type": "markdown",
   "id": "3fcd72fe",
   "metadata": {},
   "source": [
    "10. mean var and std"
   ]
  },
  {
   "cell_type": "code",
   "execution_count": 6,
   "id": "22b85d40",
   "metadata": {},
   "outputs": [
    {
     "name": "stdout",
     "output_type": "stream",
     "text": [
      "2 2\n",
      "1 2\n",
      "3 4\n",
      "[ 1.5  3.5]\n",
      "[ 1.  1.]\n",
      "1.11803398875\n"
     ]
    }
   ],
   "source": [
    "import numpy\n",
    "\n",
    "N,M = map(int, input().split())\n",
    "l = []\n",
    "\n",
    "for i in range(N):\n",
    "    a = list(map(int, input().split()))\n",
    "    l.append(a)\n",
    "\n",
    "l = numpy.array(l)\n",
    "\n",
    "numpy.set_printoptions(legacy='1.13')\n",
    "print(numpy.mean(l, axis = 1))\n",
    "print(numpy.var(l, axis = 0))\n",
    "print(numpy.std(l))"
   ]
  },
  {
   "cell_type": "markdown",
   "id": "e2907c83",
   "metadata": {},
   "source": [
    "11. dot and cross"
   ]
  },
  {
   "cell_type": "code",
   "execution_count": 7,
   "id": "5582d5cf",
   "metadata": {},
   "outputs": [
    {
     "name": "stdout",
     "output_type": "stream",
     "text": [
      "2\n",
      "1 2\n",
      "3 4\n",
      "1 2\n",
      "3 4\n",
      "[[ 7 10]\n",
      " [15 22]]\n"
     ]
    }
   ],
   "source": [
    "import numpy\n",
    "\n",
    "n = int(input())\n",
    "a = numpy.array([input().split() for _ in range(n)], int)\n",
    "b = numpy.array([input().split() for _ in range(n)], int)\n",
    "print(numpy.dot(a, b))"
   ]
  },
  {
   "cell_type": "markdown",
   "id": "37fd21c5",
   "metadata": {},
   "source": [
    "12. inner and outer"
   ]
  },
  {
   "cell_type": "code",
   "execution_count": 8,
   "id": "3e050483",
   "metadata": {},
   "outputs": [
    {
     "name": "stdout",
     "output_type": "stream",
     "text": [
      "0 1 \n",
      "2 3\n",
      "3\n",
      "[[0 0]\n",
      " [2 3]]\n"
     ]
    }
   ],
   "source": [
    "import numpy\n",
    "\n",
    "A = numpy.array(input().split(), int)\n",
    "B = numpy.array(input().split(), int)\n",
    "print(numpy.inner(A, B), numpy.outer(A, B), sep='\\n')"
   ]
  },
  {
   "cell_type": "markdown",
   "id": "ebcaa86d",
   "metadata": {},
   "source": [
    "13. Polynomials"
   ]
  },
  {
   "cell_type": "code",
   "execution_count": 9,
   "id": "0f5c5291",
   "metadata": {},
   "outputs": [
    {
     "name": "stdout",
     "output_type": "stream",
     "text": [
      "1.1 2 3\n",
      "0\n",
      "3.0\n"
     ]
    }
   ],
   "source": [
    "import numpy\n",
    "\n",
    "poly = [float(x) for x in input().split()]\n",
    "x = float(input())\n",
    "\n",
    "print(numpy.polyval(poly, x))"
   ]
  },
  {
   "cell_type": "markdown",
   "id": "f63c403d",
   "metadata": {},
   "source": [
    "14. Linear algebra"
   ]
  },
  {
   "cell_type": "code",
   "execution_count": 10,
   "id": "a2b4053c",
   "metadata": {},
   "outputs": [
    {
     "name": "stdout",
     "output_type": "stream",
     "text": [
      "2\n",
      "1.1 1.1\n",
      "1.1 1.1\n",
      "0.0\n"
     ]
    }
   ],
   "source": [
    "import numpy\n",
    "N = int(input())\n",
    "A = numpy.array([input().split() for _ in range(N)], float)\n",
    "print(round(numpy.linalg.det(A),2))"
   ]
  }
 ],
 "metadata": {
  "kernelspec": {
   "display_name": "Python 3",
   "language": "python",
   "name": "python3"
  },
  "language_info": {
   "codemirror_mode": {
    "name": "ipython",
    "version": 3
   },
   "file_extension": ".py",
   "mimetype": "text/x-python",
   "name": "python",
   "nbconvert_exporter": "python",
   "pygments_lexer": "ipython3",
   "version": "3.8.8"
  }
 },
 "nbformat": 4,
 "nbformat_minor": 5
}
